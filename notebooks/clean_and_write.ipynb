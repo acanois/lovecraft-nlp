{
 "cells": [
  {
   "cell_type": "code",
   "execution_count": 1,
   "metadata": {},
   "outputs": [],
   "source": [
    "import os\n",
    "import spacy"
   ]
  },
  {
   "cell_type": "code",
   "execution_count": 2,
   "metadata": {},
   "outputs": [
    {
     "data": {
      "text/plain": [
       "13843"
      ]
     },
     "execution_count": 2,
     "metadata": {},
     "output_type": "execute_result"
    }
   ],
   "source": [
    "nlp = spacy.load('en_core_web_sm')\n",
    "stopwords = spacy.lang.en.stop_words.STOP_WORDS\n",
    "path = os.path.join('..', 'corpus', 'colour_out_of_space.txt')\n",
    "file = open(path).read()\n",
    "doc = nlp(file)"
   ]
  },
  {
   "cell_type": "code",
   "execution_count": 3,
   "metadata": {},
   "outputs": [
    {
     "name": "stdout",
     "output_type": "stream",
     "text": [
      "(1 / 69)writing: unnamable.txt\n",
      "(2 / 69)writing: mountains_of_madness.txt\n",
      "(3 / 69)writing: dunwich.txt\n",
      "(4 / 69)writing: dagon.txt\n",
      "(5 / 69)writing: festival.txt\n",
      "(6 / 69)writing: vault.txt\n",
      "(7 / 69)writing: juan_romero.txt\n",
      "(8 / 69)writing: randolph_carter.txt\n",
      "(9 / 69)writing: arthur_jermyn.txt\n",
      "I hate .DS_Store\n",
      "(11 / 69)writing: rats_walls.txt\n",
      "(12 / 69)writing: sarnath.txt\n",
      "(13 / 69)writing: innsmouth.txt\n",
      "(14 / 69)writing: clergyman.txt\n",
      "(15 / 69)writing: cthulhu.txt\n",
      "(16 / 69)writing: colour_out_of_space.txt\n",
      "(17 / 69)writing: street.txt\n",
      "(18 / 69)writing: gates_of_silver_key.txt\n",
      "(19 / 69)writing: outsider.txt\n",
      "(20 / 69)writing: reanimator.txt\n",
      "(21 / 69)writing: polaris.txt\n",
      "(22 / 69)writing: whisperer.txt\n",
      "(23 / 69)writing: other_gods.txt\n",
      "(24 / 69)writing: temple.txt\n",
      "(25 / 69)writing: descendent.txt\n",
      "(26 / 69)writing: kadath.txt\n",
      "(27 / 69)writing: book.txt\n",
      "(28 / 69)writing: poetry_and_the_gods.txt\n",
      "(29 / 69)writing: what_moon_brings.txt\n",
      "(30 / 69)writing: moon_bog.txt\n",
      "(31 / 69)writing: tomb.txt\n",
      "(32 / 69)writing: doorstep.txt\n",
      "(33 / 69)writing: lurking_fear.txt\n",
      "(34 / 69)writing: shadow_out_of_time.txt\n",
      "(35 / 69)writing: dreams_in_the_witch.txt\n",
      "(36 / 69)writing: nyarlathotep.txt\n",
      "(37 / 69)writing: high_house_mist.txt\n",
      "(38 / 69)writing: old_folk.txt\n",
      "(39 / 69)writing: erich_zann.txt\n",
      "(40 / 69)writing: redhook.txt\n",
      "(41 / 69)writing: martins_beach.txt\n",
      "(42 / 69)writing: charles_dexter_ward.txt\n",
      "(43 / 69)writing: memory.txt\n",
      "(44 / 69)writing: hypnos.txt\n",
      "(45 / 69)writing: under_the_pyramids.txt\n",
      "(46 / 69)writing: shunned_house.txt\n",
      "(47 / 69)writing: pickman.txt\n",
      "(48 / 69)writing: picture_house.txt\n",
      "(49 / 69)writing: ex_oblivione.txt\n",
      "(50 / 69)writing: hound.txt\n",
      "(51 / 69)writing: ulthar.txt\n",
      "(52 / 69)writing: from_beyond.txt\n",
      "(53 / 69)writing: beast.txt\n",
      "(54 / 69)writing: celephais.txt\n",
      "(55 / 69)writing: crawling_chaos.txt\n",
      "(56 / 69)writing: terrible_old_man.txt\n",
      "(57 / 69)writing: tree.txt\n",
      "(58 / 69)writing: azathoth.txt\n",
      "(59 / 69)writing: alchemist.txt\n",
      "(60 / 69)writing: beyond_wall_of_sleep.txt\n",
      "(61 / 69)writing: he.txt\n",
      "(62 / 69)writing: medusas_coil.txt\n",
      "(63 / 69)writing: haunter.txt\n",
      "(64 / 69)writing: silver_key.txt\n",
      "(65 / 69)writing: nameless.txt\n",
      "(66 / 69)writing: cool_air.txt\n",
      "(67 / 69)writing: white_ship.txt\n",
      "(68 / 69)writing: iranon.txt\n"
     ]
    }
   ],
   "source": [
    "corpus_path = os.path.join('..', 'corpus')\n",
    "clean_doc = []\n",
    "for i, file in enumerate(os.listdir(corpus_path)):\n",
    "    if file != '.DS_Store':\n",
    "        print(f\"({i + 1} / {len(os.listdir(corpus_path))})writing: {file}\")\n",
    "        with open(os.path.join(corpus_path, file)) as f:\n",
    "            reader = f.read()\n",
    "            doc = nlp(reader)\n",
    "            clean_doc = [token for token in doc if not token.is_stop and not token.is_punct and token.text != '\\n\\n']\n",
    "\n",
    "        with open(os.path.join('..', 'cleaned_corpus', file), 'w') as write_file:\n",
    "            for word in clean_doc:\n",
    "                write_file.write(str(word).lower() + ' ')\n",
    "    else:\n",
    "        print(\"I hate .DS_Store\")"
   ]
  },
  {
   "cell_type": "code",
   "execution_count": null,
   "metadata": {},
   "outputs": [],
   "source": []
  }
 ],
 "metadata": {
  "kernelspec": {
   "display_name": "lovecraft",
   "language": "python",
   "name": "lovecraft"
  },
  "language_info": {
   "codemirror_mode": {
    "name": "ipython",
    "version": 3
   },
   "file_extension": ".py",
   "mimetype": "text/x-python",
   "name": "python",
   "nbconvert_exporter": "python",
   "pygments_lexer": "ipython3",
   "version": "3.8.8"
  }
 },
 "nbformat": 4,
 "nbformat_minor": 2
}
