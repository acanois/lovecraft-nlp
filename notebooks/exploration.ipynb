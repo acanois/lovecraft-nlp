{
 "cells": [
  {
   "cell_type": "code",
   "execution_count": 1,
   "metadata": {},
   "outputs": [],
   "source": [
    "import os\n",
    "from collections import Counter\n",
    "\n",
    "import spacy"
   ]
  },
  {
   "cell_type": "code",
   "execution_count": 2,
   "metadata": {},
   "outputs": [
    {
     "data": {
      "text/plain": [
       "13843"
      ]
     },
     "execution_count": 2,
     "metadata": {},
     "output_type": "execute_result"
    }
   ],
   "source": [
    "nlp = spacy.load('en_core_web_sm')\n",
    "stopwords = spacy.lang.en.stop_words.STOP_WORDS\n",
    "path = os.path.join('..', 'corpus', 'colour_out_of_space.txt')\n",
    "file = open(path).read()\n",
    "doc = nlp(file)\n",
    "\n",
    "len(doc)"
   ]
  },
  {
   "cell_type": "code",
   "execution_count": 3,
   "metadata": {},
   "outputs": [],
   "source": [
    "# You don't need to use .lower()\n",
    "clean_doc = [token for token in doc if not token.is_stop and not token.is_punct and token.text != '\\n\\n']"
   ]
  },
  {
   "cell_type": "code",
   "execution_count": 4,
   "metadata": {},
   "outputs": [
    {
     "data": {
      "text/plain": [
       "[('Ammi', 77),\n",
       " ('Nahum', 66),\n",
       " ('away', 26),\n",
       " ('like', 26),\n",
       " ('come', 25),\n",
       " ('place', 23),\n",
       " ('night', 23),\n",
       " ('strange', 23),\n",
       " ('saw', 23),\n",
       " ('colour', 23),\n",
       " ('seen', 21),\n",
       " ('Arkham', 20),\n",
       " ('old', 20),\n",
       " ('house', 20),\n",
       " ('things', 19),\n",
       " ('men', 19),\n",
       " ('thought', 18),\n",
       " ('grey', 18),\n",
       " ('gone', 17),\n",
       " ('time', 17),\n",
       " ('trees', 16),\n",
       " ('told', 16),\n",
       " ('near', 16),\n",
       " ('road', 16),\n",
       " ('water', 16)]"
      ]
     },
     "execution_count": 4,
     "metadata": {},
     "output_type": "execute_result"
    }
   ],
   "source": [
    "word_freq = Counter(str(token) for token in clean_doc)\n",
    "word_freq.most_common(25)"
   ]
  },
  {
   "cell_type": "code",
   "execution_count": 5,
   "metadata": {},
   "outputs": [
    {
     "data": {
      "text/plain": [
       "[('strange', 23),\n",
       " ('old', 19),\n",
       " ('dark', 13),\n",
       " ('great', 12),\n",
       " ('little', 12),\n",
       " ('terrible', 11),\n",
       " ('grey', 10),\n",
       " ('new', 9),\n",
       " ('black', 9),\n",
       " ('right', 9),\n",
       " ('unknown', 9),\n",
       " ('brittle', 9),\n",
       " ('wild', 8),\n",
       " ('ancient', 8),\n",
       " ('good', 8),\n",
       " ('faint', 8),\n",
       " ('small', 8),\n",
       " ('deep', 7),\n",
       " ('open', 7),\n",
       " ('odd', 7),\n",
       " ('bad', 6),\n",
       " ('poor', 6),\n",
       " ('mad', 6),\n",
       " ('low', 5),\n",
       " ('frightened', 5)]"
      ]
     },
     "execution_count": 5,
     "metadata": {},
     "output_type": "execute_result"
    }
   ],
   "source": [
    "adjs = [token for token in clean_doc if token.pos_ == 'ADJ']\n",
    "adj_freq = Counter([str(adj) for adj in adjs])\n",
    "adj_freq.most_common(25)"
   ]
  },
  {
   "cell_type": "code",
   "execution_count": 7,
   "metadata": {},
   "outputs": [
    {
     "data": {
      "text/plain": [
       "[('night', 23),\n",
       " ('colour', 23),\n",
       " ('place', 21),\n",
       " ('house', 19),\n",
       " ('things', 19),\n",
       " ('men', 19),\n",
       " ('time', 17),\n",
       " ('trees', 16),\n",
       " ('road', 16),\n",
       " ('water', 16),\n",
       " ('thing', 15),\n",
       " ('stone', 15),\n",
       " ('woods', 13),\n",
       " ('days', 13),\n",
       " ('man', 13),\n",
       " ('way', 13),\n",
       " ('professors', 13),\n",
       " ('sky', 12),\n",
       " ('people', 11),\n",
       " ('door', 11),\n",
       " ('window', 11),\n",
       " ('room', 11),\n",
       " ('earth', 10),\n",
       " ('morning', 10),\n",
       " ('vegetation', 10)]"
      ]
     },
     "execution_count": 7,
     "metadata": {},
     "output_type": "execute_result"
    }
   ],
   "source": [
    "nouns = [token for token in clean_doc if token.pos_ == 'NOUN']\n",
    "noun_freq = Counter([str(noun) for noun in nouns])\n",
    "noun_freq.most_common(25)"
   ]
  },
  {
   "cell_type": "code",
   "execution_count": null,
   "metadata": {},
   "outputs": [],
   "source": []
  }
 ],
 "metadata": {
  "kernelspec": {
   "display_name": "lovecraft",
   "language": "python",
   "name": "lovecraft"
  },
  "language_info": {
   "codemirror_mode": {
    "name": "ipython",
    "version": 3
   },
   "file_extension": ".py",
   "mimetype": "text/x-python",
   "name": "python",
   "nbconvert_exporter": "python",
   "pygments_lexer": "ipython3",
   "version": "3.8.8"
  }
 },
 "nbformat": 4,
 "nbformat_minor": 2
}
