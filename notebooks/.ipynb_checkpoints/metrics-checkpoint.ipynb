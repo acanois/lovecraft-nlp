{
 "cells": [
  {
   "cell_type": "code",
   "execution_count": 1,
   "metadata": {},
   "outputs": [],
   "source": [
    "import os\n",
    "import spacy\n",
    "import pandas as pd\n",
    "from collections import Counter"
   ]
  },
  {
   "cell_type": "code",
   "execution_count": 2,
   "metadata": {},
   "outputs": [],
   "source": [
    "def get_common(doc, num_words, pos_tag=None):\n",
    "    if (pos_tag != None):\n",
    "        words = [token for token in doc if token.pos_ == pos_tag]\n",
    "        word_freq = Counter([str(word) for word in words])\n",
    "        return word_freq.most_common(num_words)\n",
    "    else:\n",
    "        words = [token for token in doc]\n",
    "        word_freq = Counter([str(word) for word in words])\n",
    "        return word_freq.most_common(num_words)"
   ]
  },
  {
   "cell_type": "code",
   "execution_count": 3,
   "metadata": {},
   "outputs": [
    {
     "ename": "SyntaxError",
     "evalue": "invalid syntax (<ipython-input-3-1393b3c8bbcd>, line 10)",
     "output_type": "error",
     "traceback": [
      "\u001b[0;36m  File \u001b[0;32m\"<ipython-input-3-1393b3c8bbcd>\"\u001b[0;36m, line \u001b[0;32m10\u001b[0m\n\u001b[0;31m    with open(path, 'r') as file:\u001b[0m\n\u001b[0m    ^\u001b[0m\n\u001b[0;31mSyntaxError\u001b[0m\u001b[0;31m:\u001b[0m invalid syntax\n"
     ]
    }
   ],
   "source": [
    "dir_path = os.path.join('..', 'cleaned_corpus')\n",
    "\n",
    "for file_name in os.listdir(dir_path):\n",
    "    nlp = spacy.load('en_core_web_sm')\n",
    "    path = os.path.join(dir_path, file_name)\n",
    "    \n",
    "    if file_name != '.DS_Store':\n",
    "        print(f\"writing {file_name.split('.')[0]}.csv\")\n",
    "              \n",
    "        with open(path, 'r') as file:\n",
    "            reader = file.read()\n",
    "            doc = nlp(reader)\n",
    "\n",
    "            common_words = get_common(doc, 25)\n",
    "            common_adjs = get_common(doc, 25, 'ADJ')\n",
    "            common_nouns = get_common(doc, 25, 'NOUN')\n",
    "            common_verbs = get_common(doc, 25, 'VERB')\n",
    "            \n",
    "            try:\n",
    "                df = pd.DataFrame({\n",
    "                    'common_words': [x[0] for x in common_words],\n",
    "                    'word_count': [x[1] for x in common_words],\n",
    "                    'common_adjectives': [x[0] for x in common_adjs],\n",
    "                    'adj_count': [x[1] for x in common_adjs],\n",
    "                    'common_nouns': [x[0] for x in common_nouns],\n",
    "                    'noun_count': [x[1] for x in common_nouns],\n",
    "                    'common_verbs': [x[0] for x in common_verbs],\n",
    "                    'verb_count': [x[1] for x in common_verbs]\n",
    "                })\n",
    "            except ValueError:\n",
    "                print(f\"Array length mismatch for {file_name}\")\n",
    "                print(f\"words: {len(common_words)}\\nadjs: {len(common_adjs)}\\nnouns: {len(common_nouns)}\\nverbs: {len(common_verbs)}\")\n",
    "            except IsADirectoryError:\n",
    "                print(f\"{file_name} is a directory\")\n",
    "                \n",
    "\n",
    "            df.to_csv(os.path.join('..', 'word_metric_csvs', file_name.split('.')[0] + '.csv'), index=False)\n",
    "    else:\n",
    "        print('DS_Store')"
   ]
  },
  {
   "cell_type": "code",
   "execution_count": null,
   "metadata": {},
   "outputs": [],
   "source": []
  }
 ],
 "metadata": {
  "kernelspec": {
   "display_name": "lovecraft",
   "language": "python",
   "name": "lovecraft"
  },
  "language_info": {
   "codemirror_mode": {
    "name": "ipython",
    "version": 3
   },
   "file_extension": ".py",
   "mimetype": "text/x-python",
   "name": "python",
   "nbconvert_exporter": "python",
   "pygments_lexer": "ipython3",
   "version": "3.8.8"
  }
 },
 "nbformat": 4,
 "nbformat_minor": 2
}
